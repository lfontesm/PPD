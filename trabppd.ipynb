{
 "cells": [
  {
   "cell_type": "code",
   "execution_count": 50,
   "metadata": {},
   "outputs": [],
   "source": [
    "import numpy as np\n",
    "from tqdm import tqdm\n",
    "from joblib import Parallel, delayed\n",
    "import sys"
   ]
  },
  {
   "cell_type": "code",
   "execution_count": 24,
   "metadata": {},
   "outputs": [],
   "source": [
    "def partition(arr, low, high):\n",
    "    i = (low-1)         # index of smaller element\n",
    "    pivot = arr[high]     # pivot\n",
    "  \n",
    "    for j in range(low, high):\n",
    "  \n",
    "        # If current element is smaller than or\n",
    "        # equal to pivot\n",
    "        if arr[j] <= pivot:\n",
    "  \n",
    "            # increment index of smaller element\n",
    "            i = i+1\n",
    "            arr[i], arr[j] = arr[j], arr[i]\n",
    "  \n",
    "    arr[i+1], arr[high] = arr[high], arr[i+1]\n",
    "    return (i+1)\n"
   ]
  },
  {
   "cell_type": "code",
   "execution_count": 25,
   "metadata": {},
   "outputs": [],
   "source": [
    "def quickSort(arr, low, high):\n",
    "    if len(arr) == 1:\n",
    "        return arr\n",
    "    if low < high:\n",
    "  \n",
    "        # pi is partitioning index, arr[p] is now\n",
    "        # at right place\n",
    "        pi = partition(arr, low, high)\n",
    "  \n",
    "        # Separately sort elements before\n",
    "        # partition and after partition\n",
    "        quickSort(arr, low, pi-1)\n",
    "        quickSort(arr, pi+1, high)\n"
   ]
  },
  {
   "cell_type": "code",
   "execution_count": 105,
   "metadata": {},
   "outputs": [
    {
     "data": {
      "text/plain": [
       "array([1204677474, 1857026905, 1683092901, 1423342770, 1616717910,\n",
       "       1021863909, 1156271951, 1451107478, 1355934224, 1855674639,\n",
       "       1183397020, 1780652409, 1182014437, 1575521448, 1039392323,\n",
       "       1612025126, 1862985787, 1766767021, 1798064051, 1882166536,\n",
       "       1315170906, 1699344382, 1717217347, 1031170666, 1303947572,\n",
       "       1927675192, 1301099157, 1821320831, 1842302982, 1198977398,\n",
       "       1562723468, 1638996392, 1758869236, 1085901234, 1029486346,\n",
       "       1594604606, 1516576574, 1996193391, 1143891413, 1229270531,\n",
       "       1755452036, 1944821155, 1383133628, 1601125197, 1725742017,\n",
       "       1598541411, 1530219807, 1441931464, 1370012593, 1837587666,\n",
       "       1429323608, 1984753770, 1689707244, 1872559355, 1879798456,\n",
       "       1565476857, 1808925292, 1721923878, 1500380037, 1070841950,\n",
       "       1712620626, 1210744053, 1622882351, 1006420490, 1938663266,\n",
       "       1582400331, 1111326329, 1888515730, 1917296611, 1656257809,\n",
       "       1507621569, 1058714636, 1002922345, 1510825340, 1366206382,\n",
       "       1911452516, 1256448039, 1105801242, 1678008946, 1952302711,\n",
       "       1609029621, 1915823197, 1067283339, 1285053800, 1178257221,\n",
       "       1641767292, 1515266846, 1846512267, 1051166460, 1838496566,\n",
       "       1521558890, 1190331547, 1916063236, 1938730636, 1865502563,\n",
       "       1202824688, 1167790472, 1402764666, 1435602949, 1326856107])"
      ]
     },
     "execution_count": 105,
     "metadata": {},
     "output_type": "execute_result"
    }
   ],
   "source": [
    "arrLenGlobal = 100\n",
    "nthreadsGlobal = 8\n",
    "randArr = np.random.randint(1000000000, 2000000000, arrLenGlobal)\n",
    "randArr"
   ]
  },
  {
   "cell_type": "code",
   "execution_count": 95,
   "metadata": {},
   "outputs": [
    {
     "data": {
      "text/plain": [
       "[(0, 24), (25, 49), (50, 74), (75, 99)]"
      ]
     },
     "execution_count": 95,
     "metadata": {},
     "output_type": "execute_result"
    }
   ],
   "source": [
    "def selectInterval(nthreads, arrLen):\n",
    "    nhi=arrLen/nthreads\n",
    "    nhiAux=nhi\n",
    "    lo = 0\n",
    "\n",
    "    hiArr = []\n",
    "\n",
    "    hiArr.append((lo, int(nhi-1)))\n",
    "    while nhiAux < arrLen:\n",
    "        lo = nhiAux\n",
    "        nhiAux+=nhi\n",
    "        hiArr.append((int(lo), int(nhiAux-1)))\n",
    "\n",
    "    return hiArr\n",
    "\n",
    "loHiArr = selectInterval(nthreadsGlobal,arrLenGlobal)\n",
    "loHiArr\n",
    "\n",
    "# 50000000/8"
   ]
  },
  {
   "cell_type": "code",
   "execution_count": 106,
   "metadata": {},
   "outputs": [
    {
     "data": {
      "text/plain": [
       "array([1021863909, 1031170666, 1039392323, 1156271951, 1182014437,\n",
       "       1183397020, 1204677474, 1303947572, 1315170906, 1355934224,\n",
       "       1423342770, 1451107478, 1575521448, 1612025126, 1616717910,\n",
       "       1683092901, 1699344382, 1717217347, 1766767021, 1780652409,\n",
       "       1798064051, 1855674639, 1857026905, 1862985787, 1882166536,\n",
       "       1029486346, 1085901234, 1143891413, 1198977398, 1229270531,\n",
       "       1301099157, 1370012593, 1383133628, 1441931464, 1516576574,\n",
       "       1530219807, 1562723468, 1594604606, 1598541411, 1601125197,\n",
       "       1638996392, 1725742017, 1755452036, 1758869236, 1821320831,\n",
       "       1837587666, 1842302982, 1927675192, 1944821155, 1996193391,\n",
       "       1002922345, 1006420490, 1058714636, 1070841950, 1111326329,\n",
       "       1210744053, 1366206382, 1429323608, 1500380037, 1507621569,\n",
       "       1510825340, 1565476857, 1582400331, 1622882351, 1656257809,\n",
       "       1689707244, 1712620626, 1721923878, 1808925292, 1872559355,\n",
       "       1879798456, 1888515730, 1917296611, 1938663266, 1984753770,\n",
       "       1051166460, 1067283339, 1105801242, 1167790472, 1178257221,\n",
       "       1190331547, 1202824688, 1256448039, 1285053800, 1326856107,\n",
       "       1402764666, 1435602949, 1515266846, 1521558890, 1609029621,\n",
       "       1641767292, 1678008946, 1838496566, 1846512267, 1865502563,\n",
       "       1911452516, 1915823197, 1916063236, 1938730636, 1952302711])"
      ]
     },
     "execution_count": 106,
     "metadata": {},
     "output_type": "execute_result"
    }
   ],
   "source": [
    "Parallel(n_jobs=nthreadsGlobal, backend='threading')(delayed(quickSort)(randArr,lo,hi) for lo,hi in loHiArr)\n",
    "randArr"
   ]
  }
 ],
 "metadata": {
  "interpreter": {
   "hash": "c444fb501e07cb21c662b3acbb3874dbe330aad6f1134c3bf4ceaf784b84cf81"
  },
  "kernelspec": {
   "display_name": "Python 3.9.5 64-bit ('PPD': conda)",
   "name": "python3"
  },
  "language_info": {
   "codemirror_mode": {
    "name": "ipython",
    "version": 3
   },
   "file_extension": ".py",
   "mimetype": "text/x-python",
   "name": "python",
   "nbconvert_exporter": "python",
   "pygments_lexer": "ipython3",
   "version": "3.9.5"
  },
  "orig_nbformat": 4
 },
 "nbformat": 4,
 "nbformat_minor": 2
}